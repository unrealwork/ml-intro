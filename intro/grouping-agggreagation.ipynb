{
 "cells": [
  {
   "cell_type": "code",
   "execution_count": 4,
   "metadata": {
    "collapsed": true,
    "pycharm": {
     "is_executing": false
    }
   },
   "outputs": [
    {
     "data": {
      "text/plain": "   Unnamed: 0 attack_type  id  legs  localized_name  \\\n0           0       Melee   1     2       Anti-Mage   \n1           1       Melee   2     2             Axe   \n2           2      Ranged   3     4            Bane   \n3           3       Melee   4     2     Bloodseeker   \n4           4      Ranged   5     2  Crystal Maiden   \n\n                           name primary_attr  \\\n0        npc_dota_hero_antimage          agi   \n1             npc_dota_hero_axe          str   \n2            npc_dota_hero_bane          int   \n3     npc_dota_hero_bloodseeker          agi   \n4  npc_dota_hero_crystal_maiden          int   \n\n                                               roles  \n0                       ['Carry', 'Escape', 'Nuker']  \n1    ['Initiator', 'Durable', 'Disabler', 'Jungler']  \n2        ['Support', 'Disabler', 'Nuker', 'Durable']  \n3  ['Carry', 'Disabler', 'Jungler', 'Nuker', 'Ini...  \n4        ['Support', 'Disabler', 'Nuker', 'Jungler']  ",
      "text/html": "<div>\n<style scoped>\n    .dataframe tbody tr th:only-of-type {\n        vertical-align: middle;\n    }\n\n    .dataframe tbody tr th {\n        vertical-align: top;\n    }\n\n    .dataframe thead th {\n        text-align: right;\n    }\n</style>\n<table border=\"1\" class=\"dataframe\">\n  <thead>\n    <tr style=\"text-align: right;\">\n      <th></th>\n      <th>Unnamed: 0</th>\n      <th>attack_type</th>\n      <th>id</th>\n      <th>legs</th>\n      <th>localized_name</th>\n      <th>name</th>\n      <th>primary_attr</th>\n      <th>roles</th>\n    </tr>\n  </thead>\n  <tbody>\n    <tr>\n      <th>0</th>\n      <td>0</td>\n      <td>Melee</td>\n      <td>1</td>\n      <td>2</td>\n      <td>Anti-Mage</td>\n      <td>npc_dota_hero_antimage</td>\n      <td>agi</td>\n      <td>['Carry', 'Escape', 'Nuker']</td>\n    </tr>\n    <tr>\n      <th>1</th>\n      <td>1</td>\n      <td>Melee</td>\n      <td>2</td>\n      <td>2</td>\n      <td>Axe</td>\n      <td>npc_dota_hero_axe</td>\n      <td>str</td>\n      <td>['Initiator', 'Durable', 'Disabler', 'Jungler']</td>\n    </tr>\n    <tr>\n      <th>2</th>\n      <td>2</td>\n      <td>Ranged</td>\n      <td>3</td>\n      <td>4</td>\n      <td>Bane</td>\n      <td>npc_dota_hero_bane</td>\n      <td>int</td>\n      <td>['Support', 'Disabler', 'Nuker', 'Durable']</td>\n    </tr>\n    <tr>\n      <th>3</th>\n      <td>3</td>\n      <td>Melee</td>\n      <td>4</td>\n      <td>2</td>\n      <td>Bloodseeker</td>\n      <td>npc_dota_hero_bloodseeker</td>\n      <td>agi</td>\n      <td>['Carry', 'Disabler', 'Jungler', 'Nuker', 'Ini...</td>\n    </tr>\n    <tr>\n      <th>4</th>\n      <td>4</td>\n      <td>Ranged</td>\n      <td>5</td>\n      <td>2</td>\n      <td>Crystal Maiden</td>\n      <td>npc_dota_hero_crystal_maiden</td>\n      <td>int</td>\n      <td>['Support', 'Disabler', 'Nuker', 'Jungler']</td>\n    </tr>\n  </tbody>\n</table>\n</div>"
     },
     "metadata": {},
     "output_type": "display_data"
    },
    {
     "data": {
      "text/plain": "      Unnamed: 0  attack_type  id  localized_name  name  primary_attr  roles\nlegs                                                                        \n0             11           11  11              11    11            11     11\n2             95           95  95              95    95            95     95\n4              7            7   7               7     7             7      7\n6              3            3   3               3     3             3      3\n8              1            1   1               1     1             1      1",
      "text/html": "<div>\n<style scoped>\n    .dataframe tbody tr th:only-of-type {\n        vertical-align: middle;\n    }\n\n    .dataframe tbody tr th {\n        vertical-align: top;\n    }\n\n    .dataframe thead th {\n        text-align: right;\n    }\n</style>\n<table border=\"1\" class=\"dataframe\">\n  <thead>\n    <tr style=\"text-align: right;\">\n      <th></th>\n      <th>Unnamed: 0</th>\n      <th>attack_type</th>\n      <th>id</th>\n      <th>localized_name</th>\n      <th>name</th>\n      <th>primary_attr</th>\n      <th>roles</th>\n    </tr>\n    <tr>\n      <th>legs</th>\n      <th></th>\n      <th></th>\n      <th></th>\n      <th></th>\n      <th></th>\n      <th></th>\n      <th></th>\n    </tr>\n  </thead>\n  <tbody>\n    <tr>\n      <th>0</th>\n      <td>11</td>\n      <td>11</td>\n      <td>11</td>\n      <td>11</td>\n      <td>11</td>\n      <td>11</td>\n      <td>11</td>\n    </tr>\n    <tr>\n      <th>2</th>\n      <td>95</td>\n      <td>95</td>\n      <td>95</td>\n      <td>95</td>\n      <td>95</td>\n      <td>95</td>\n      <td>95</td>\n    </tr>\n    <tr>\n      <th>4</th>\n      <td>7</td>\n      <td>7</td>\n      <td>7</td>\n      <td>7</td>\n      <td>7</td>\n      <td>7</td>\n      <td>7</td>\n    </tr>\n    <tr>\n      <th>6</th>\n      <td>3</td>\n      <td>3</td>\n      <td>3</td>\n      <td>3</td>\n      <td>3</td>\n      <td>3</td>\n      <td>3</td>\n    </tr>\n    <tr>\n      <th>8</th>\n      <td>1</td>\n      <td>1</td>\n      <td>1</td>\n      <td>1</td>\n      <td>1</td>\n      <td>1</td>\n      <td>1</td>\n    </tr>\n  </tbody>\n</table>\n</div>"
     },
     "metadata": {},
     "output_type": "display_data"
    },
    {
     "data": {
      "text/plain": "   Unnamed: 0 Executor Type  Salary\n0           0     Pupa    D      63\n1           1     Pupa    A     158\n2           2     Pupa    D     194\n3           3     Pupa    E     109\n4           4    Loopa    E     184",
      "text/html": "<div>\n<style scoped>\n    .dataframe tbody tr th:only-of-type {\n        vertical-align: middle;\n    }\n\n    .dataframe tbody tr th {\n        vertical-align: top;\n    }\n\n    .dataframe thead th {\n        text-align: right;\n    }\n</style>\n<table border=\"1\" class=\"dataframe\">\n  <thead>\n    <tr style=\"text-align: right;\">\n      <th></th>\n      <th>Unnamed: 0</th>\n      <th>Executor</th>\n      <th>Type</th>\n      <th>Salary</th>\n    </tr>\n  </thead>\n  <tbody>\n    <tr>\n      <th>0</th>\n      <td>0</td>\n      <td>Pupa</td>\n      <td>D</td>\n      <td>63</td>\n    </tr>\n    <tr>\n      <th>1</th>\n      <td>1</td>\n      <td>Pupa</td>\n      <td>A</td>\n      <td>158</td>\n    </tr>\n    <tr>\n      <th>2</th>\n      <td>2</td>\n      <td>Pupa</td>\n      <td>D</td>\n      <td>194</td>\n    </tr>\n    <tr>\n      <th>3</th>\n      <td>3</td>\n      <td>Pupa</td>\n      <td>E</td>\n      <td>109</td>\n    </tr>\n    <tr>\n      <th>4</th>\n      <td>4</td>\n      <td>Loopa</td>\n      <td>E</td>\n      <td>184</td>\n    </tr>\n  </tbody>\n</table>\n</div>"
     },
     "metadata": {},
     "output_type": "display_data"
    },
    {
     "data": {
      "text/plain": "                          attack_type  primary_attr  roles\nattack_type primary_attr                                  \nMelee       agi                     1             1     19\n            int                     1             1      2\n            str                     1             1     31\nRanged      agi                     1             1     16\n            int                     1             1     33\n            str                     1             1      3",
      "text/html": "<div>\n<style scoped>\n    .dataframe tbody tr th:only-of-type {\n        vertical-align: middle;\n    }\n\n    .dataframe tbody tr th {\n        vertical-align: top;\n    }\n\n    .dataframe thead th {\n        text-align: right;\n    }\n</style>\n<table border=\"1\" class=\"dataframe\">\n  <thead>\n    <tr style=\"text-align: right;\">\n      <th></th>\n      <th></th>\n      <th>attack_type</th>\n      <th>primary_attr</th>\n      <th>roles</th>\n    </tr>\n    <tr>\n      <th>attack_type</th>\n      <th>primary_attr</th>\n      <th></th>\n      <th></th>\n      <th></th>\n    </tr>\n  </thead>\n  <tbody>\n    <tr>\n      <th rowspan=\"3\" valign=\"top\">Melee</th>\n      <th>agi</th>\n      <td>1</td>\n      <td>1</td>\n      <td>19</td>\n    </tr>\n    <tr>\n      <th>int</th>\n      <td>1</td>\n      <td>1</td>\n      <td>2</td>\n    </tr>\n    <tr>\n      <th>str</th>\n      <td>1</td>\n      <td>1</td>\n      <td>31</td>\n    </tr>\n    <tr>\n      <th rowspan=\"3\" valign=\"top\">Ranged</th>\n      <th>agi</th>\n      <td>1</td>\n      <td>1</td>\n      <td>16</td>\n    </tr>\n    <tr>\n      <th>int</th>\n      <td>1</td>\n      <td>1</td>\n      <td>33</td>\n    </tr>\n    <tr>\n      <th>str</th>\n      <td>1</td>\n      <td>1</td>\n      <td>3</td>\n    </tr>\n  </tbody>\n</table>\n</div>"
     },
     "metadata": {},
     "output_type": "display_data"
    },
    {
     "name": "stdout",
     "text": [
      "0.35 3.57 6.64\n"
     ],
     "output_type": "stream"
    }
   ],
   "source": [
    "import ssl\n",
    "from IPython.core.display import display, HTML\n",
    "import pandas as pd\n",
    "\n",
    "ssl._create_default_https_context = ssl._create_unverified_context\n",
    "\n",
    "\n",
    "\n",
    "dota_ds = pd.read_csv('https://stepik.org/media/attachments/course/4852/dota_hero_stats.csv')\n",
    "\n",
    "display(dota_ds.head())\n",
    "\n",
    "grouped_by_legs = dota_ds.groupby('legs').count()\n",
    "\n",
    "display(grouped_by_legs)\n",
    "\n",
    "\n",
    "pl_ds = pd.read_csv('https://stepik.org/media/attachments/course/4852/accountancy.csv')\n",
    "\n",
    "display(pl_ds.head())\n",
    "\n",
    "pl_ds[['Type','Executor','Salary']].groupby(['Type', 'Executor']).mean()\n",
    "\n",
    "\n",
    "dota_unique = dota_ds[['attack_type', 'primary_attr', 'roles']].groupby(['attack_type', 'primary_attr']).nunique()\n",
    "\n",
    "display(dota_unique)\n",
    "\n",
    "\n",
    "mut_ds = pd.read_csv('http://stepik.org/media/attachments/course/4852/algae.csv')\n",
    "\n",
    "mut_ds.head()\n",
    "\n",
    "alanin = mut_ds[mut_ds.genus == 'Fucus'].alanin\n",
    "\n",
    "print('%.2f %.2f %.2f' % (alanin.min(), alanin.mean(), alanin.max()))"
   ]
  }
 ],
 "metadata": {
  "kernelspec": {
   "display_name": "Python 3",
   "language": "python",
   "name": "python3"
  },
  "language_info": {
   "codemirror_mode": {
    "name": "ipython",
    "version": 2
   },
   "file_extension": ".py",
   "mimetype": "text/x-python",
   "name": "python",
   "nbconvert_exporter": "python",
   "pygments_lexer": "ipython2",
   "version": "2.7.6"
  },
  "pycharm": {
   "stem_cell": {
    "cell_type": "raw",
    "source": [],
    "metadata": {
     "collapsed": false
    }
   }
  }
 },
 "nbformat": 4,
 "nbformat_minor": 0
}
