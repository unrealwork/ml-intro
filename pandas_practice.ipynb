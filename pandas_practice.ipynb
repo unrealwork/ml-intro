{
 "cells": [
  {
   "cell_type": "code",
   "execution_count": 13,
   "metadata": {
    "collapsed": true,
    "pycharm": {
     "is_executing": false
    }
   },
   "outputs": [
    {
     "data": {
      "text/plain": "<IPython.core.display.HTML object>",
      "text/html": "<h2>Filtering data</h2>"
     },
     "metadata": {},
     "output_type": "display_data"
    },
    {
     "data": {
      "text/plain": "   V1    V2 V3   V4\n0   2  13.0  B  1.0\n1  -1   7.0  B  1.0\n2   0  11.0  A  0.0\n3   2  11.0  A  2.0\n4   0  10.0  B -1.0",
      "text/html": "<div>\n<style scoped>\n    .dataframe tbody tr th:only-of-type {\n        vertical-align: middle;\n    }\n\n    .dataframe tbody tr th {\n        vertical-align: top;\n    }\n\n    .dataframe thead th {\n        text-align: right;\n    }\n</style>\n<table border=\"1\" class=\"dataframe\">\n  <thead>\n    <tr style=\"text-align: right;\">\n      <th></th>\n      <th>V1</th>\n      <th>V2</th>\n      <th>V3</th>\n      <th>V4</th>\n    </tr>\n  </thead>\n  <tbody>\n    <tr>\n      <th>0</th>\n      <td>2</td>\n      <td>13.0</td>\n      <td>B</td>\n      <td>1.0</td>\n    </tr>\n    <tr>\n      <th>1</th>\n      <td>-1</td>\n      <td>7.0</td>\n      <td>B</td>\n      <td>1.0</td>\n    </tr>\n    <tr>\n      <th>2</th>\n      <td>0</td>\n      <td>11.0</td>\n      <td>A</td>\n      <td>0.0</td>\n    </tr>\n    <tr>\n      <th>3</th>\n      <td>2</td>\n      <td>11.0</td>\n      <td>A</td>\n      <td>2.0</td>\n    </tr>\n    <tr>\n      <th>4</th>\n      <td>0</td>\n      <td>10.0</td>\n      <td>B</td>\n      <td>-1.0</td>\n    </tr>\n  </tbody>\n</table>\n</div>"
     },
     "metadata": {},
     "output_type": "display_data"
    },
    {
     "data": {
      "text/plain": "<IPython.core.display.HTML object>",
      "text/html": "<p>Наблюдения, у которых значения переменной V1  строго больше 0, и значение переменной V3  равняется 'A'</p>"
     },
     "metadata": {},
     "output_type": "display_data"
    },
    {
     "data": {
      "text/plain": "     V1    V2 V3   V4\n3     2  11.0  A  2.0\n5     2  11.0  A  0.0\n7     1   9.0  A  1.0\n10    1  10.0  A  1.0\n13    1  12.0  A  3.0\n..   ..   ... ..  ...\n491   4   7.0  A  2.0\n494   1  11.0  A  1.0\n495   1   8.0  A -1.0\n496   3   8.0  A  1.0\n498   1  11.0  A  2.0\n\n[88 rows x 4 columns]",
      "text/html": "<div>\n<style scoped>\n    .dataframe tbody tr th:only-of-type {\n        vertical-align: middle;\n    }\n\n    .dataframe tbody tr th {\n        vertical-align: top;\n    }\n\n    .dataframe thead th {\n        text-align: right;\n    }\n</style>\n<table border=\"1\" class=\"dataframe\">\n  <thead>\n    <tr style=\"text-align: right;\">\n      <th></th>\n      <th>V1</th>\n      <th>V2</th>\n      <th>V3</th>\n      <th>V4</th>\n    </tr>\n  </thead>\n  <tbody>\n    <tr>\n      <th>3</th>\n      <td>2</td>\n      <td>11.0</td>\n      <td>A</td>\n      <td>2.0</td>\n    </tr>\n    <tr>\n      <th>5</th>\n      <td>2</td>\n      <td>11.0</td>\n      <td>A</td>\n      <td>0.0</td>\n    </tr>\n    <tr>\n      <th>7</th>\n      <td>1</td>\n      <td>9.0</td>\n      <td>A</td>\n      <td>1.0</td>\n    </tr>\n    <tr>\n      <th>10</th>\n      <td>1</td>\n      <td>10.0</td>\n      <td>A</td>\n      <td>1.0</td>\n    </tr>\n    <tr>\n      <th>13</th>\n      <td>1</td>\n      <td>12.0</td>\n      <td>A</td>\n      <td>3.0</td>\n    </tr>\n    <tr>\n      <th>...</th>\n      <td>...</td>\n      <td>...</td>\n      <td>...</td>\n      <td>...</td>\n    </tr>\n    <tr>\n      <th>491</th>\n      <td>4</td>\n      <td>7.0</td>\n      <td>A</td>\n      <td>2.0</td>\n    </tr>\n    <tr>\n      <th>494</th>\n      <td>1</td>\n      <td>11.0</td>\n      <td>A</td>\n      <td>1.0</td>\n    </tr>\n    <tr>\n      <th>495</th>\n      <td>1</td>\n      <td>8.0</td>\n      <td>A</td>\n      <td>-1.0</td>\n    </tr>\n    <tr>\n      <th>496</th>\n      <td>3</td>\n      <td>8.0</td>\n      <td>A</td>\n      <td>1.0</td>\n    </tr>\n    <tr>\n      <th>498</th>\n      <td>1</td>\n      <td>11.0</td>\n      <td>A</td>\n      <td>2.0</td>\n    </tr>\n  </tbody>\n</table>\n<p>88 rows × 4 columns</p>\n</div>"
     },
     "metadata": {},
     "output_type": "display_data"
    },
    {
     "data": {
      "text/plain": "<IPython.core.display.HTML object>",
      "text/html": "<p>Наблюдения, у которых значения переменной V2  не равняются 10, или значения переменной V4 больше или равно 1</p>"
     },
     "metadata": {},
     "output_type": "display_data"
    },
    {
     "data": {
      "text/plain": "     V1    V2 V3   V4\n0     2  13.0  B  1.0\n1    -1   7.0  B  1.0\n2     0  11.0  A  0.0\n3     2  11.0  A  2.0\n5     2  11.0  A  0.0\n..   ..   ... ..  ...\n495   1   8.0  A -1.0\n496   3   8.0  A  1.0\n497  -1  11.0  B  2.0\n498   1  11.0  A  2.0\n499   0   8.0  B  1.0\n\n[447 rows x 4 columns]",
      "text/html": "<div>\n<style scoped>\n    .dataframe tbody tr th:only-of-type {\n        vertical-align: middle;\n    }\n\n    .dataframe tbody tr th {\n        vertical-align: top;\n    }\n\n    .dataframe thead th {\n        text-align: right;\n    }\n</style>\n<table border=\"1\" class=\"dataframe\">\n  <thead>\n    <tr style=\"text-align: right;\">\n      <th></th>\n      <th>V1</th>\n      <th>V2</th>\n      <th>V3</th>\n      <th>V4</th>\n    </tr>\n  </thead>\n  <tbody>\n    <tr>\n      <th>0</th>\n      <td>2</td>\n      <td>13.0</td>\n      <td>B</td>\n      <td>1.0</td>\n    </tr>\n    <tr>\n      <th>1</th>\n      <td>-1</td>\n      <td>7.0</td>\n      <td>B</td>\n      <td>1.0</td>\n    </tr>\n    <tr>\n      <th>2</th>\n      <td>0</td>\n      <td>11.0</td>\n      <td>A</td>\n      <td>0.0</td>\n    </tr>\n    <tr>\n      <th>3</th>\n      <td>2</td>\n      <td>11.0</td>\n      <td>A</td>\n      <td>2.0</td>\n    </tr>\n    <tr>\n      <th>5</th>\n      <td>2</td>\n      <td>11.0</td>\n      <td>A</td>\n      <td>0.0</td>\n    </tr>\n    <tr>\n      <th>...</th>\n      <td>...</td>\n      <td>...</td>\n      <td>...</td>\n      <td>...</td>\n    </tr>\n    <tr>\n      <th>495</th>\n      <td>1</td>\n      <td>8.0</td>\n      <td>A</td>\n      <td>-1.0</td>\n    </tr>\n    <tr>\n      <th>496</th>\n      <td>3</td>\n      <td>8.0</td>\n      <td>A</td>\n      <td>1.0</td>\n    </tr>\n    <tr>\n      <th>497</th>\n      <td>-1</td>\n      <td>11.0</td>\n      <td>B</td>\n      <td>2.0</td>\n    </tr>\n    <tr>\n      <th>498</th>\n      <td>1</td>\n      <td>11.0</td>\n      <td>A</td>\n      <td>2.0</td>\n    </tr>\n    <tr>\n      <th>499</th>\n      <td>0</td>\n      <td>8.0</td>\n      <td>B</td>\n      <td>1.0</td>\n    </tr>\n  </tbody>\n</table>\n<p>447 rows × 4 columns</p>\n</div>"
     },
     "metadata": {},
     "output_type": "display_data"
    }
   ],
   "source": [
    "import ssl\n",
    "\n",
    "import pandas as pd\n",
    "from IPython.core.display import display, HTML\n",
    "\n",
    "ssl._create_default_https_context = ssl._create_unverified_context\n",
    "my_data = pd.DataFrame(columns=['type','value'])\n",
    "\n",
    "#1\n",
    "my_data['type'] = pd.Series(data=['A','A','B','B'], dtype='str')\n",
    "my_data['value'] = pd.Series(data=[10,14,12,23], dtype='int64')\n",
    "\n",
    "my_data.head()\n",
    "\n",
    "#2\n",
    "my_stat = pd.read_csv('https://stepik.org/media/attachments/course/4852/my_stat.csv')\n",
    " \n",
    "subset_1 = my_stat.iloc[:10,[0,2]]\n",
    "subset_2 = my_stat.iloc[pd.np.r_[1:4, 5:len(my_stat.index)],[1,3]]\n",
    "\n",
    "#3\n",
    "display(HTML('<h2>Filtering data</h2>'))\n",
    "display(my_stat.head())\n",
    "\n",
    "display(HTML('<p>Наблюдения, у которых значения переменной V1  строго больше 0, и значение переменной V3  равняется \\'A\\'</p>'))\n",
    "subset_1 = my_stat.query('V1 > 0 and V3 == \\'A\\'')\n",
    "\n",
    "display(subset_1)\n",
    "\n",
    "display(HTML('<p>Наблюдения, у которых значения переменной V2  не равняются 10, или значения переменной V4 больше или равно 1</p>'))\n",
    "subset_2 = my_stat.query('V2 != 10 or V4 >= 1')\n",
    "display(subset_2)"
   ]
  }
 ],
 "metadata": {
  "kernelspec": {
   "display_name": "Python 3",
   "language": "python",
   "name": "python3"
  },
  "language_info": {
   "codemirror_mode": {
    "name": "ipython",
    "version": 2
   },
   "file_extension": ".py",
   "mimetype": "text/x-python",
   "name": "python",
   "nbconvert_exporter": "python",
   "pygments_lexer": "ipython2",
   "version": "2.7.6"
  },
  "pycharm": {
   "stem_cell": {
    "cell_type": "raw",
    "source": [],
    "metadata": {
     "collapsed": false
    }
   }
  }
 },
 "nbformat": 4,
 "nbformat_minor": 0
}
