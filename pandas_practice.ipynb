{
 "cells": [
  {
   "cell_type": "code",
   "execution_count": 1,
   "metadata": {
    "collapsed": true,
    "pycharm": {
     "is_executing": false
    }
   },
   "outputs": [],
   "source": [
    "import ssl\n",
    "\n",
    "import pandas as pd\n",
    "\n",
    "ssl._create_default_https_context = ssl._create_unverified_context\n",
    "my_data = pd.DataFrame(columns=['type','value'])\n",
    "\n",
    "#1\n",
    "my_data['type'] = pd.Series(data=['A','A','B','B'], dtype='str')\n",
    "my_data['value'] = pd.Series(data=[10,14,12,23], dtype='int64')\n",
    "\n",
    "my_data.head()\n",
    "\n",
    "#2\n",
    "my_stat = pd.read_csv('https://stepik.org/media/attachments/course/4852/my_stat.csv')\n",
    " \n",
    "subset_1 = my_stat.iloc[:10,[0,2]]\n",
    "subset_2 = my_stat.iloc[pd.np.r_[1:4, 5:len(my_stat.index)],[1,3]]"
   ]
  }
 ],
 "metadata": {
  "kernelspec": {
   "display_name": "Python 3",
   "language": "python",
   "name": "python3"
  },
  "language_info": {
   "codemirror_mode": {
    "name": "ipython",
    "version": 2
   },
   "file_extension": ".py",
   "mimetype": "text/x-python",
   "name": "python",
   "nbconvert_exporter": "python",
   "pygments_lexer": "ipython2",
   "version": "2.7.6"
  },
  "pycharm": {
   "stem_cell": {
    "cell_type": "raw",
    "source": [],
    "metadata": {
     "collapsed": false
    }
   }
  }
 },
 "nbformat": 4,
 "nbformat_minor": 0
}
