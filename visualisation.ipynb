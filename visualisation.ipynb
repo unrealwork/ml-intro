{
 "cells": [
  {
   "cell_type": "code",
   "execution_count": 56,
   "metadata": {
    "collapsed": true,
    "pycharm": {
     "is_executing": false
    }
   },
   "outputs": [
    {
     "data": {
      "text/plain": "0      3\n1      4\n2      4\n3      5\n4      4\n      ..\n112    4\n113    4\n114    6\n115    4\n116    4\nName: roles_count, Length: 117, dtype: int64"
     },
     "metadata": {},
     "output_type": "display_data"
    },
    {
     "data": {
      "text/plain": "<Figure size 432x288 with 1 Axes>",
      "image/png": "[encoded data removed]"
     },
     "metadata": {
      "needs_background": "light"
     },
     "output_type": "display_data"
    }
   ],
   "source": [
    "import ssl\n",
    "from IPython.core.display import display, HTML\n",
    "import pandas as pd\n",
    "\n",
    "ssl._create_default_https_context = ssl._create_unverified_context\n",
    "\n",
    "import matplotlib.pyplot as plt\n",
    "import seaborn as sns\n",
    "\n",
    "\n",
    "\n",
    "# ds = pd.read_csv('https://stepik.org/media/attachments/course/4852/StudentsPerformance.csv')\n",
    "# ds.columns = [x.replace(' ', '_') for x in ds.columns]\n",
    "# \n",
    "# ds.math_score.hist()\n",
    "# \n",
    "# ds.plot.scatter(x='math_score',y= 'reading_score')\n",
    "# \n",
    "# df = pd.read_csv('https://stepik.org/media/attachments/course/4852/income.csv')\n",
    "# \n",
    "# df.income.plot()\n",
    "# \n",
    "# df.plot(kind='line')\n",
    "# \n",
    "# df.plot()\n",
    "# \n",
    "# \n",
    "# # sns.lineplot(data=df)\n",
    "# \n",
    "# \n",
    "# fds = pd.read_csv('~/Downloads/dataset_209770_6.txt', delim_whitespace=True)\n",
    "# \n",
    "# fds.head()\n",
    "# \n",
    "# fds.plot.scatter(x='x', y = 'y')\n",
    "# \n",
    "# hm_ds = pd.read_csv('https://stepik.org/media/attachments/course/4852/genome_matrix.csv')\n",
    "# \n",
    "# hm_ds = hm_ds[[x for x in hm_ds.columns if x.startswith('species')]]\n",
    "# \n",
    "# hm_ds.head()\n",
    "# \n",
    "# # sns.heatmap(hm_ds, cmap='viridis')\n",
    "# \n",
    "# dota_ds = pd.read_csv('https://stepik.org/media/attachments/course/4852/dota_hero_stats.csv')\n",
    "# \n",
    "# dota_ds['roles_count'] = dota_ds.roles.str.count(',') +1\n",
    "# display(dota_ds.head())\n",
    "\n",
    "\n",
    "\n",
    "# dota_ds.plot.hist(x='localized_name', y = 'roles_count')\n",
    "\n",
    "s = dota_ds.roles_count\n",
    "display(s)\n",
    "\n",
    "ax = sns.distplot(s)"
   ]
  }
 ],
 "metadata": {
  "kernelspec": {
   "display_name": "Python 3",
   "language": "python",
   "name": "python3"
  },
  "language_info": {
   "codemirror_mode": {
    "name": "ipython",
    "version": 2
   },
   "file_extension": ".py",
   "mimetype": "text/x-python",
   "name": "python",
   "nbconvert_exporter": "python",
   "pygments_lexer": "ipython2",
   "version": "2.7.6"
  },
  "pycharm": {
   "stem_cell": {
    "cell_type": "raw",
    "source": [],
    "metadata": {
     "collapsed": false
    }
   }
  }
 },
 "nbformat": 4,
 "nbformat_minor": 0
}
